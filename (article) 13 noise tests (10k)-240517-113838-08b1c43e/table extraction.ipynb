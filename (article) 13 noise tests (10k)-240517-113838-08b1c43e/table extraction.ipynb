{
 "cells": [
  {
   "cell_type": "code",
   "execution_count": 1,
   "metadata": {},
   "outputs": [
    {
     "name": "stdout",
     "output_type": "stream",
     "text": [
      "noise 05 \t\t Avg. 15.066666666666666 \t Std. 5.57334928227383\n",
      "noise 1 \t\t Avg. 13.266666666666667 \t Std. 5.761558431149992\n",
      "noise 10 \t\t Avg. 2.7333333333333334 \t Std. 2.768071932270226\n",
      "noise 2 \t\t Avg. 8.566666666666666 \t Std. 6.540557230763208\n",
      "noise 20 \t\t Avg. 1.7666666666666666 \t Std. 2.564934480428085\n",
      "noise 3 \t\t Avg. 5.966666666666667 \t Std. 3.9283867200445304\n",
      "noise 4 \t\t Avg. 5.466666666666667 \t Std. 5.149325737954005\n",
      "noise 5 \t\t Avg. 4.866666666666666 \t Std. 4.477598562721862\n"
     ]
    }
   ],
   "source": [
    "import pandas as pd\n",
    "import glob\n",
    "import re\n",
    "\n",
    "def get_data(files):\n",
    "    data_list = {}\n",
    "    for file in files:\n",
    "        data = pd.read_csv(file)\n",
    "        columns_after_rank = data.columns[3:]\n",
    "        name = file.split('\\\\')[-1].split('.')[0]\n",
    "        multiplier = int(re.search(r'\\d+', columns_after_rank[0]).group())\n",
    "        for column in columns_after_rank:\n",
    "            data[column] *= multiplier\n",
    "            pivot_data = data.pivot(index='rank', columns='replicate', values=column)\n",
    "            pivot_data['Avg.'] = pivot_data.mean(axis=1)\n",
    "            pivot_data['Std. dev.'] = pivot_data.std(axis=1)\n",
    "            data_list[name] = pivot_data\n",
    "    return data_list\n",
    "\n",
    "files = glob.glob('**/*.csv', recursive=True)\n",
    "data = get_data(files)\n",
    "\n",
    "for i, j in data.items():\n",
    "    avg = j.iloc[-1, -2].item()\n",
    "    std = j.iloc[-1, -1].item()\n",
    "\n",
    "    print(i, '\\t\\t', 'Avg.', avg, '\\t', 'Std.', std)"
   ]
  }
 ],
 "metadata": {
  "kernelspec": {
   "display_name": "base",
   "language": "python",
   "name": "python3"
  },
  "language_info": {
   "codemirror_mode": {
    "name": "ipython",
    "version": 3
   },
   "file_extension": ".py",
   "mimetype": "text/x-python",
   "name": "python",
   "nbconvert_exporter": "python",
   "pygments_lexer": "ipython3",
   "version": "3.10.14"
  }
 },
 "nbformat": 4,
 "nbformat_minor": 2
}
