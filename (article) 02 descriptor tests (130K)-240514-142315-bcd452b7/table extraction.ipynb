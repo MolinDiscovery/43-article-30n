{
 "cells": [
  {
   "cell_type": "code",
   "execution_count": 4,
   "metadata": {},
   "outputs": [
    {
     "name": "stdout",
     "output_type": "stream",
     "text": [
      "avalon \t\t Avg. 14.733333333333285 \t Std. 14.224235968546385\n",
      "CDDD \t\t Avg. 23.33333333333327 \t Std. 15.208184930782783\n",
      "MACCS \t\t Avg. 25.99999999999994 \t Std. 17.92577287966502\n",
      "morgan \t\t Avg. 10.833333333333274 \t Std. 9.637023514665835\n",
      "MQN \t\t Avg. 23.333333333333275 \t Std. 18.85264496621687\n",
      "rdk \t\t Avg. 16.799999999999937 \t Std. 14.570289404584013\n",
      "rdkit2D \t\t Avg. 23.633333333333265 \t Std. 12.79709168348636\n"
     ]
    }
   ],
   "source": [
    "import pandas as pd\n",
    "import glob\n",
    "import re\n",
    "\n",
    "def get_data(files):\n",
    "    data_list = {}\n",
    "    for file in files:\n",
    "        data = pd.read_csv(file)\n",
    "        columns_after_rank = data.columns[3:]\n",
    "        name = file.split('\\\\')[-1].split('.')[0]\n",
    "        multiplier = int(re.search(r'\\d+', columns_after_rank[0]).group())\n",
    "        for column in columns_after_rank:\n",
    "            data[column] *= multiplier\n",
    "            pivot_data = data.pivot(index='rank', columns='replicate', values=column)\n",
    "            pivot_data['Avg.'] = pivot_data.mean(axis=1)\n",
    "            pivot_data['Std. dev.'] = pivot_data.std(axis=1)\n",
    "            data_list[name] = pivot_data\n",
    "    return data_list\n",
    "\n",
    "files = glob.glob('**/*.csv', recursive=True)\n",
    "data = get_data(files)\n",
    "\n",
    "for i, j in data.items():\n",
    "    avg = j.iloc[-1, -2].item()\n",
    "    std = j.iloc[-1, -1].item()\n",
    "\n",
    "    print(i, '\\t\\t', 'Avg.', avg, '\\t', 'Std.', std)"
   ]
  }
 ],
 "metadata": {
  "kernelspec": {
   "display_name": "base",
   "language": "python",
   "name": "python3"
  },
  "language_info": {
   "codemirror_mode": {
    "name": "ipython",
    "version": 3
   },
   "file_extension": ".py",
   "mimetype": "text/x-python",
   "name": "python",
   "nbconvert_exporter": "python",
   "pygments_lexer": "ipython3",
   "version": "3.8.10"
  }
 },
 "nbformat": 4,
 "nbformat_minor": 2
}
