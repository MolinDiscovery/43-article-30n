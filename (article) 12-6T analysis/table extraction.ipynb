{
 "cells": [
  {
   "cell_type": "code",
   "execution_count": 2,
   "metadata": {},
   "outputs": [
    {
     "name": "stdout",
     "output_type": "stream",
     "text": [
      "rdkit2D nud0 \t\t Avg. 26.766666666666612 \t Std. 14.625738347933837\n",
      "rdkit2D nud1 \t\t Avg. 38.36666666666659 \t Std. 18.24551695318302\n",
      "rdkit2D nud2 \t\t Avg. 44.46666666666662 \t Std. 18.38429281267632\n",
      "rdkit2D nud3 \t\t Avg. 45.966666666666605 \t Std. 16.41642131796357\n",
      "rdkit2D nud4 \t\t Avg. 56.19999999999993 \t Std. 15.572197447159914\n",
      "rdkit2D nud5 \t\t Avg. 50.99999999999996 \t Std. 14.86158358542813\n"
     ]
    }
   ],
   "source": [
    "import pandas as pd\n",
    "import glob\n",
    "import re\n",
    "\n",
    "def get_data(files):\n",
    "    data_list = {}\n",
    "    for file in files:\n",
    "        data = pd.read_csv(file)\n",
    "        columns_after_rank = data.columns[3:]\n",
    "        name = file.split('\\\\')[-1].split('.')[0]\n",
    "        multiplier = int(re.search(r'\\d+', columns_after_rank[0]).group())\n",
    "        for column in columns_after_rank:\n",
    "            data[column] *= multiplier\n",
    "            pivot_data = data.pivot(index='rank', columns='replicate', values=column)\n",
    "            pivot_data['Avg.'] = pivot_data.mean(axis=1)\n",
    "            pivot_data['Std. dev.'] = pivot_data.std(axis=1)\n",
    "            data_list[name] = pivot_data\n",
    "    return data_list\n",
    "\n",
    "files = glob.glob('**/*.csv', recursive=True)\n",
    "data = get_data(files)\n",
    "\n",
    "for i, j in data.items():\n",
    "    avg = j.iloc[-1, -2].item()\n",
    "    std = j.iloc[-1, -1].item()\n",
    "\n",
    "    print(i, '\\t\\t', 'Avg.', avg, '\\t', 'Std.', std)"
   ]
  }
 ],
 "metadata": {
  "kernelspec": {
   "display_name": "base",
   "language": "python",
   "name": "python3"
  },
  "language_info": {
   "codemirror_mode": {
    "name": "ipython",
    "version": 3
   },
   "file_extension": ".py",
   "mimetype": "text/x-python",
   "name": "python",
   "nbconvert_exporter": "python",
   "pygments_lexer": "ipython3",
   "version": "3.10.14"
  }
 },
 "nbformat": 4,
 "nbformat_minor": 2
}
