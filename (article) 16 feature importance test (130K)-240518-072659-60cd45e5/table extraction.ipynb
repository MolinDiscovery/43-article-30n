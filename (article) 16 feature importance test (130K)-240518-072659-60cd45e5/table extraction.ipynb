{
 "cells": [
  {
   "cell_type": "code",
   "execution_count": 1,
   "metadata": {},
   "outputs": [
    {
     "name": "stdout",
     "output_type": "stream",
     "text": [
      "20 features \t\t Avg. 21.099999999999923 \t Std. 17.10623667944921\n",
      "60 features \t\t Avg. 27.66666666666661 \t Std. 14.855601263122574\n",
      "All features \t\t Avg. 27.099999999999948 \t Std. 16.16652920903762\n"
     ]
    }
   ],
   "source": [
    "import pandas as pd\n",
    "import glob\n",
    "import re\n",
    "\n",
    "def get_data(files):\n",
    "    data_list = {}\n",
    "    for file in files:\n",
    "        data = pd.read_csv(file)\n",
    "        columns_after_rank = data.columns[3:]\n",
    "        name = file.split('\\\\')[-1].split('.')[0]\n",
    "        multiplier = int(re.search(r'\\d+', columns_after_rank[0]).group())\n",
    "        for column in columns_after_rank:\n",
    "            data[column] *= multiplier\n",
    "            pivot_data = data.pivot(index='rank', columns='replicate', values=column)\n",
    "            pivot_data['Avg.'] = pivot_data.mean(axis=1)\n",
    "            pivot_data['Std. dev.'] = pivot_data.std(axis=1)\n",
    "            data_list[name] = pivot_data\n",
    "    return data_list\n",
    "\n",
    "files = glob.glob('**/*.csv', recursive=True)\n",
    "data = get_data(files)\n",
    "\n",
    "for i, j in data.items():\n",
    "    avg = j.iloc[-1, -2].item()\n",
    "    std = j.iloc[-1, -1].item()\n",
    "\n",
    "    print(i, '\\t\\t', 'Avg.', avg, '\\t', 'Std.', std)"
   ]
  }
 ],
 "metadata": {
  "kernelspec": {
   "display_name": "base",
   "language": "python",
   "name": "python3"
  },
  "language_info": {
   "codemirror_mode": {
    "name": "ipython",
    "version": 3
   },
   "file_extension": ".py",
   "mimetype": "text/x-python",
   "name": "python",
   "nbconvert_exporter": "python",
   "pygments_lexer": "ipython3",
   "version": "3.10.14"
  }
 },
 "nbformat": 4,
 "nbformat_minor": 2
}
