{
 "cells": [
  {
   "cell_type": "code",
   "execution_count": 1,
   "metadata": {},
   "outputs": [
    {
     "name": "stdout",
     "output_type": "stream",
     "text": [
      "MLP CDDD \t\t Avg. 11.433333333333268 \t Std. 13.549128713274843\n",
      "MLP morgan \t\t Avg. 21.333333333333265 \t Std. 13.77033849337851\n",
      "MLP rdkit2D \t\t Avg. 4.6666666666665755 \t Std. 1.6799470891138877\n",
      "RF CDDD \t\t Avg. 21.73333333333326 \t Std. 13.85865152972043\n",
      "RF morgan \t\t Avg. 15.933333333333268 \t Std. 13.02032599011595\n",
      "RF rdkit2D \t\t Avg. 21.599999999999934 \t Std. 14.75714516203366\n"
     ]
    }
   ],
   "source": [
    "import pandas as pd\n",
    "import glob\n",
    "import re\n",
    "\n",
    "def get_data(files):\n",
    "    data_list = {}\n",
    "    for file in files:\n",
    "        data = pd.read_csv(file)\n",
    "        columns_after_rank = data.columns[3:]\n",
    "        name = file.split('\\\\')[-1].split('.')[0]\n",
    "        multiplier = int(re.search(r'\\d+', columns_after_rank[0]).group())\n",
    "        for column in columns_after_rank:\n",
    "            data[column] *= multiplier\n",
    "            pivot_data = data.pivot(index='rank', columns='replicate', values=column)\n",
    "            pivot_data['Avg.'] = pivot_data.mean(axis=1)\n",
    "            pivot_data['Std. dev.'] = pivot_data.std(axis=1)\n",
    "            data_list[name] = pivot_data\n",
    "    return data_list\n",
    "\n",
    "files = glob.glob('**/*.csv', recursive=True)\n",
    "data = get_data(files)\n",
    "\n",
    "for i, j in data.items():\n",
    "    avg = j.iloc[-1, -2].item()\n",
    "    std = j.iloc[-1, -1].item()\n",
    "\n",
    "    print(i, '\\t\\t', 'Avg.', avg, '\\t', 'Std.', std)"
   ]
  }
 ],
 "metadata": {
  "kernelspec": {
   "display_name": "base",
   "language": "python",
   "name": "python3"
  },
  "language_info": {
   "codemirror_mode": {
    "name": "ipython",
    "version": 3
   },
   "file_extension": ".py",
   "mimetype": "text/x-python",
   "name": "python",
   "nbconvert_exporter": "python",
   "pygments_lexer": "ipython3",
   "version": "3.8.10"
  }
 },
 "nbformat": 4,
 "nbformat_minor": 2
}
